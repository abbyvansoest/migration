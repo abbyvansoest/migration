{
 "cells": [
  {
   "cell_type": "code",
   "execution_count": 65,
   "metadata": {},
   "outputs": [],
   "source": [
    "import networkx as nx\n",
    "import pandas as pd"
   ]
  },
  {
   "cell_type": "code",
   "execution_count": 66,
   "metadata": {},
   "outputs": [],
   "source": [
    "income_csv = pd.read_csv('../data/income_by_msa_simplified.csv')\n",
    "income_csv['pcpi'] = income_csv['pcpi'].str.replace(',', '')\n",
    "income_csv['pcpi'] = income_csv['pcpi'].astype(int)\n",
    "income_by_msa = pd.Series(income_csv.pcpi.values,index=income_csv.msa).to_dict()"
   ]
  },
  {
   "cell_type": "code",
   "execution_count": 67,
   "metadata": {},
   "outputs": [
    {
     "name": "stdout",
     "output_type": "stream",
     "text": [
      "['Metro-to-Metro 2011-2015']\n",
      "388\n",
      "49521\n"
     ]
    }
   ],
   "source": [
    "non_cities = ['Outside Metro Area within U.S. or Puerto Rico', 'Africa', 'Asia', 'Central America', 'Caribbean', 'Europe', 'U.S. Island Areas', 'Northern America', 'Oceania and At Sea', 'South America']\n",
    "G = nx.DiGraph()\n",
    "\n",
    "x = pd.ExcelFile('../data/metro-to-metro-2011-2015.xlsx')\n",
    "print(x.sheet_names)\n",
    "\n",
    "previous = 'Unnamed: 15'\n",
    "current = 'Unnamed: 2'\n",
    "count = 'Unnamed: 26'\n",
    "\n",
    "thresh = 0\n",
    "\n",
    "for state in x.sheet_names:\n",
    "    df = x.parse(state)\n",
    "\n",
    "    for index, row in df.iterrows():\n",
    "\n",
    "        # skip first three rows: header rows\n",
    "        if index < 3:\n",
    "            continue\n",
    "        # skip the last rows: footer rows\n",
    "        if index >= 53724:\n",
    "            break\n",
    "            \n",
    "        if int(row[count]) < thresh:\n",
    "            continue\n",
    "\n",
    "        # exclude non-cities\n",
    "        if row[previous] in non_cities or row[current] in non_cities:\n",
    "            continue\n",
    "            \n",
    "        # compute weight\n",
    "        source_income = income_by_msa.get(row[previous][:-11])\n",
    "        \n",
    "        # none for many places in PR\n",
    "        if source_income is None:\n",
    "            continue\n",
    "\n",
    "        source_count = row[count]\n",
    "        weight = source_income * source_count\n",
    "            \n",
    "        G.add_edge(row[previous], row[current], weight=weight)\n",
    "\n",
    "print(len(G.nodes()))\n",
    "print(len(G.edges()))"
   ]
  },
  {
   "cell_type": "code",
   "execution_count": 68,
   "metadata": {},
   "outputs": [
    {
     "name": "stdout",
     "output_type": "stream",
     "text": [
      "                                                 metro        pr\n",
      "53       Los Angeles-Long Beach-Anaheim, CA Metro Area  0.021176\n",
      "62    New York-Newark-Jersey City, NY-NJ-PA Metro Area  0.019864\n",
      "25          Dallas-Fort Worth-Arlington, TX Metro Area  0.019688\n",
      "105  Washington-Arlington-Alexandria, DC-VA-MD-WV M...  0.018384\n",
      "38     Houston-The Woodlands-Sugar Land, TX Metro Area  0.017473\n",
      "5         Atlanta-Sandy Springs-Roswell, GA Metro Area  0.017056\n",
      "19       Chicago-Naperville-Elgin, IL-IN-WI Metro Area  0.015999\n",
      "72              Phoenix-Mesa-Scottsdale, AZ Metro Area  0.015701\n",
      "88              Seattle-Tacoma-Bellevue, WA Metro Area  0.013660\n",
      "79     Riverside-San Bernardino-Ontario, CA Metro Area  0.013246\n",
      "192       San Francisco-Oakland-Hayward, CA Metro Area  0.013170\n",
      "58   Miami-Fort Lauderdale-West Palm Beach, FL Metr...  0.012076\n",
      "27               Denver-Aurora-Lakewood, CO Metro Area  0.011797\n",
      "117  Philadelphia-Camden-Wilmington, PA-NJ-DE-MD Me...  0.011485\n",
      "95      Tampa-St. Petersburg-Clearwater, FL Metro Area  0.010832\n",
      "6                     Austin-Round Rock, TX Metro Area  0.010771\n",
      "13           Boston-Cambridge-Newton, MA-NH Metro Area  0.010660\n",
      "67            Orlando-Kissimmee-Sanford, FL Metro Area  0.010271\n",
      "85                   San Diego-Carlsbad, CA Metro Area  0.010180\n",
      "73      Portland-Vancouver-Hillsboro, OR-WA Metro Area  0.009512\n",
      "84            San Antonio-New Braunfels, TX Metro Area  0.009303\n",
      "17        Charlotte-Concord-Gastonia, NC-SC Metro Area  0.008843\n",
      "60   Minneapolis-St. Paul-Bloomington, MN-WI Metro ...  0.008578\n",
      "48         Las Vegas-Henderson-Paradise, NV Metro Area  0.007987\n",
      "102  Virginia Beach-Norfolk-Newport News, VA-NC Met...  0.007974\n",
      "80   Sacramento--Roseville--Arden-Arcade, CA Metro ...  0.007362\n",
      "8             Baltimore-Columbia-Towson, MD Metro Area  0.007309\n",
      "28              Detroit-Warren-Dearborn, MI Metro Area  0.007155\n",
      "179  Nashville-Davidson--Murfreesboro--Franklin, TN...  0.006891\n",
      "279      San Jose-Sunnyvale-Santa Clara, CA Metro Area  0.006567\n",
      "..                                                 ...       ...\n",
      "368                             Gadsden, AL Metro Area  0.000754\n",
      "149                             Decatur, IL Metro Area  0.000744\n",
      "167                                Lima, OH Metro Area  0.000732\n",
      "337                         Fond du Lac, WI Metro Area  0.000732\n",
      "211                            Bay City, MI Metro Area  0.000731\n",
      "276                          Pittsfield, MA Metro Area  0.000723\n",
      "324                              Casper, WY Metro Area  0.000721\n",
      "379                       Cumberland, MD-WV Metro Area  0.000718\n",
      "299                         Great Falls, MT Metro Area  0.000716\n",
      "271                     Lewiston-Auburn, ME Metro Area  0.000716\n",
      "362                            Kankakee, IL Metro Area  0.000703\n",
      "332                          Ocean City, NJ Metro Area  0.000701\n",
      "351                              Wausau, WI Metro Area  0.000700\n",
      "294                          Farmington, NM Metro Area  0.000685\n",
      "128                             Altoona, PA Metro Area  0.000683\n",
      "232                             Beckley, WV Metro Area  0.000683\n",
      "244                          Pine Bluff, AR Metro Area  0.000679\n",
      "302                              Kokomo, IN Metro Area  0.000664\n",
      "340                           Owensboro, KY Metro Area  0.000655\n",
      "344                            Danville, IL Metro Area  0.000639\n",
      "385                               Ponce, PR Metro Area  0.000631\n",
      "257                              Elmira, NY Metro Area  0.000629\n",
      "156                        Grand Island, NE Metro Area  0.000627\n",
      "357                         Lewiston, ID-WA Metro Area  0.000622\n",
      "183                  Parkersburg-Vienna, WV Metro Area  0.000605\n",
      "110                   Aguadilla-Isabela, PR Metro Area  0.000541\n",
      "384                            Mayagüez, PR Metro Area  0.000454\n",
      "382                             Guayama, PR Metro Area  0.000445\n",
      "386                          San Germán, PR Metro Area  0.000436\n",
      "370                             Arecibo, PR Metro Area  0.000435\n",
      "\n",
      "[388 rows x 2 columns]\n"
     ]
    }
   ],
   "source": [
    "pr = nx.pagerank(G, max_iter=1000)\n",
    "pr_df = pd.DataFrame.from_dict(pr, orient='index', columns=['pr']).reset_index().rename(columns={'index':'metro'})\n",
    "pr_df = pr_df.sort_values(by='pr', ascending=False)\n",
    "print(pr_df)"
   ]
  },
  {
   "cell_type": "code",
   "execution_count": 69,
   "metadata": {},
   "outputs": [],
   "source": [
    "pr_df.to_csv('../results/weighted_income_pagerank.csv', index=False)"
   ]
  }
 ],
 "metadata": {
  "kernelspec": {
   "display_name": "Python 3",
   "language": "python",
   "name": "python3"
  },
  "language_info": {
   "codemirror_mode": {
    "name": "ipython",
    "version": 3
   },
   "file_extension": ".py",
   "mimetype": "text/x-python",
   "name": "python",
   "nbconvert_exporter": "python",
   "pygments_lexer": "ipython3",
   "version": "3.7.2"
  }
 },
 "nbformat": 4,
 "nbformat_minor": 2
}
